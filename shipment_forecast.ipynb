{
 "cells": [
  {
   "cell_type": "markdown",
   "id": "0f6cfd0a-88e1-49f4-83a4-721018d132cc",
   "metadata": {},
   "source": [
    "# Shipment Forecast"
   ]
  },
  {
   "cell_type": "code",
   "execution_count": 116,
   "id": "5c0b1e06-4119-4f43-8314-1be37d9ea6d9",
   "metadata": {},
   "outputs": [],
   "source": [
    "import pandas as pd\n",
    "import numpy as np\n",
    "import matplotlib.pyplot as plt\n",
    "import seaborn as sns\n",
    "\n",
    "from sklearn.metrics import mean_absolute_error as mae, mean_absolute_percentage_error as mape\n",
    "from sklearn.model_selection import TimeSeriesSplit, GridSearchCV \n",
    "from sklearn.linear_model import LinearRegression, Lasso\n",
    "from sklearn.feature_selection import SelectFromModel\n",
    "from sklearn.preprocessing import StandardScaler\n",
    "from sklearn.ensemble import RandomForestRegressor\n",
    "from sklearn.base import BaseEstimator\n",
    "\n",
    "from scipy.optimize import minimize\n",
    "from boruta import BorutaPy\n",
    "\n",
    "from statsmodels.tsa.seasonal import seasonal_decompose\n",
    "from statsmodels.tsa.holtwinters import SimpleExpSmoothing, ExponentialSmoothing\n",
    "from statsmodels.graphics.tsaplots import plot_pacf, plot_acf\n",
    "\n",
    "import xgboost as xgb\n",
    "import lightgbm as lgb\n",
    "\n",
    "from fbprophet import Prophet\n",
    "\n",
    "import logging\n",
    "logging.getLogger('fbprophet').setLevel(logging.WARNING) "
   ]
  },
  {
   "cell_type": "markdown",
   "id": "3611f4b0-1476-4d06-a228-3defcd86dd26",
   "metadata": {},
   "source": [
    "## Data loading"
   ]
  },
  {
   "cell_type": "code",
   "execution_count": 3,
   "id": "9292cdbf-9433-45bc-a67c-6a51e8ae8df4",
   "metadata": {},
   "outputs": [
    {
     "data": {
      "text/html": [
       "<div>\n",
       "<style scoped>\n",
       "    .dataframe tbody tr th:only-of-type {\n",
       "        vertical-align: middle;\n",
       "    }\n",
       "\n",
       "    .dataframe tbody tr th {\n",
       "        vertical-align: top;\n",
       "    }\n",
       "\n",
       "    .dataframe thead th {\n",
       "        text-align: right;\n",
       "    }\n",
       "</style>\n",
       "<table border=\"1\" class=\"dataframe\">\n",
       "  <thead>\n",
       "    <tr style=\"text-align: right;\">\n",
       "      <th></th>\n",
       "      <th>Date</th>\n",
       "      <th>Sales</th>\n",
       "    </tr>\n",
       "  </thead>\n",
       "  <tbody>\n",
       "    <tr>\n",
       "      <th>0</th>\n",
       "      <td>2011-01-01</td>\n",
       "      <td>266.0</td>\n",
       "    </tr>\n",
       "    <tr>\n",
       "      <th>1</th>\n",
       "      <td>2011-02-01</td>\n",
       "      <td>145.9</td>\n",
       "    </tr>\n",
       "    <tr>\n",
       "      <th>2</th>\n",
       "      <td>2011-03-01</td>\n",
       "      <td>183.1</td>\n",
       "    </tr>\n",
       "    <tr>\n",
       "      <th>3</th>\n",
       "      <td>2011-04-01</td>\n",
       "      <td>119.3</td>\n",
       "    </tr>\n",
       "    <tr>\n",
       "      <th>4</th>\n",
       "      <td>2011-05-01</td>\n",
       "      <td>180.3</td>\n",
       "    </tr>\n",
       "  </tbody>\n",
       "</table>\n",
       "</div>"
      ],
      "text/plain": [
       "         Date  Sales\n",
       "0  2011-01-01  266.0\n",
       "1  2011-02-01  145.9\n",
       "2  2011-03-01  183.1\n",
       "3  2011-04-01  119.3\n",
       "4  2011-05-01  180.3"
      ]
     },
     "execution_count": 3,
     "metadata": {},
     "output_type": "execute_result"
    }
   ],
   "source": [
    "pos_data = pd.read_csv('data/pos.csv')\n",
    "pos_data.head()"
   ]
  },
  {
   "cell_type": "code",
   "execution_count": 4,
   "id": "b36faea1-7947-44d6-8796-6bd115ad13d1",
   "metadata": {},
   "outputs": [
    {
     "data": {
      "text/html": [
       "<div>\n",
       "<style scoped>\n",
       "    .dataframe tbody tr th:only-of-type {\n",
       "        vertical-align: middle;\n",
       "    }\n",
       "\n",
       "    .dataframe tbody tr th {\n",
       "        vertical-align: top;\n",
       "    }\n",
       "\n",
       "    .dataframe thead th {\n",
       "        text-align: right;\n",
       "    }\n",
       "</style>\n",
       "<table border=\"1\" class=\"dataframe\">\n",
       "  <thead>\n",
       "    <tr style=\"text-align: right;\">\n",
       "      <th></th>\n",
       "      <th>0</th>\n",
       "      <th>1</th>\n",
       "    </tr>\n",
       "  </thead>\n",
       "  <tbody>\n",
       "    <tr>\n",
       "      <th>0</th>\n",
       "      <td>2011-11-01</td>\n",
       "      <td>BlackFriday</td>\n",
       "    </tr>\n",
       "    <tr>\n",
       "      <th>1</th>\n",
       "      <td>2012-11-01</td>\n",
       "      <td>BlackFriday</td>\n",
       "    </tr>\n",
       "    <tr>\n",
       "      <th>2</th>\n",
       "      <td>2013-11-01</td>\n",
       "      <td>BlackFriday</td>\n",
       "    </tr>\n",
       "  </tbody>\n",
       "</table>\n",
       "</div>"
      ],
      "text/plain": [
       "            0            1\n",
       "0  2011-11-01  BlackFriday\n",
       "1  2012-11-01  BlackFriday\n",
       "2  2013-11-01  BlackFriday"
      ]
     },
     "execution_count": 4,
     "metadata": {},
     "output_type": "execute_result"
    }
   ],
   "source": [
    "promo_data = pd.read_csv('data/promo.csv', header=None)\n",
    "promo_data.head()"
   ]
  },
  {
   "cell_type": "code",
   "execution_count": 5,
   "id": "a98bf3c9-a5ce-4173-96fb-0e5ebd2dc156",
   "metadata": {},
   "outputs": [
    {
     "data": {
      "text/html": [
       "<div>\n",
       "<style scoped>\n",
       "    .dataframe tbody tr th:only-of-type {\n",
       "        vertical-align: middle;\n",
       "    }\n",
       "\n",
       "    .dataframe tbody tr th {\n",
       "        vertical-align: top;\n",
       "    }\n",
       "\n",
       "    .dataframe thead th {\n",
       "        text-align: right;\n",
       "    }\n",
       "</style>\n",
       "<table border=\"1\" class=\"dataframe\">\n",
       "  <thead>\n",
       "    <tr style=\"text-align: right;\">\n",
       "      <th></th>\n",
       "      <th>Date</th>\n",
       "      <th>Shipments</th>\n",
       "    </tr>\n",
       "  </thead>\n",
       "  <tbody>\n",
       "    <tr>\n",
       "      <th>0</th>\n",
       "      <td>2011-01-01</td>\n",
       "      <td>100</td>\n",
       "    </tr>\n",
       "    <tr>\n",
       "      <th>1</th>\n",
       "      <td>2011-02-01</td>\n",
       "      <td>319</td>\n",
       "    </tr>\n",
       "    <tr>\n",
       "      <th>2</th>\n",
       "      <td>2011-03-01</td>\n",
       "      <td>247</td>\n",
       "    </tr>\n",
       "    <tr>\n",
       "      <th>3</th>\n",
       "      <td>2011-04-01</td>\n",
       "      <td>238</td>\n",
       "    </tr>\n",
       "    <tr>\n",
       "      <th>4</th>\n",
       "      <td>2011-05-01</td>\n",
       "      <td>214</td>\n",
       "    </tr>\n",
       "  </tbody>\n",
       "</table>\n",
       "</div>"
      ],
      "text/plain": [
       "         Date  Shipments\n",
       "0  2011-01-01        100\n",
       "1  2011-02-01        319\n",
       "2  2011-03-01        247\n",
       "3  2011-04-01        238\n",
       "4  2011-05-01        214"
      ]
     },
     "execution_count": 5,
     "metadata": {},
     "output_type": "execute_result"
    }
   ],
   "source": [
    "shipment_data = pd.read_csv('data/shipment.csv')\n",
    "shipment_data.head()"
   ]
  },
  {
   "cell_type": "markdown",
   "id": "6f8680ca-1501-4423-95d9-e81d1a2c8582",
   "metadata": {},
   "source": [
    "## Data exploration"
   ]
  },
  {
   "cell_type": "markdown",
   "id": "e7c6214d-1fde-4a90-8239-870252ebcb72",
   "metadata": {},
   "source": [
    "### Set Date as index"
   ]
  },
  {
   "cell_type": "code",
   "execution_count": 6,
   "id": "80aab767-9bf4-4f0f-885a-14ff1e626cc3",
   "metadata": {},
   "outputs": [],
   "source": [
    "pos_data.Date = pd.to_datetime(pos_data.Date)\n",
    "\n",
    "promo_data.rename({0:'Date', 1:'BlackFriday'}, axis=1, inplace=True)\n",
    "promo_data.Date = pd.to_datetime(promo_data.Date)\n",
    "\n",
    "shipment_data.Date = pd.to_datetime(shipment_data.Date)"
   ]
  },
  {
   "cell_type": "code",
   "execution_count": 7,
   "id": "57e28e2b-eff7-43e7-8e83-b467d70227a4",
   "metadata": {},
   "outputs": [],
   "source": [
    "pos_data = pos_data.set_index('Date')\n",
    "promo_data = promo_data.set_index('Date')\n",
    "shipment_data = shipment_data.set_index('Date')"
   ]
  },
  {
   "cell_type": "markdown",
   "id": "6eddd9b7-4194-4cee-818c-c82f10fdcc76",
   "metadata": {},
   "source": [
    "### Missing values"
   ]
  },
  {
   "cell_type": "code",
   "execution_count": 8,
   "id": "0c7ed80c-1891-48a3-94f1-d2d26c1c56c3",
   "metadata": {},
   "outputs": [
    {
     "data": {
      "text/plain": [
       "Sales    0\n",
       "dtype: int64"
      ]
     },
     "execution_count": 8,
     "metadata": {},
     "output_type": "execute_result"
    }
   ],
   "source": [
    "pos_data.isna().sum()"
   ]
  },
  {
   "cell_type": "code",
   "execution_count": 9,
   "id": "46d333ba-2cc2-4d31-b6cc-f04826b32c39",
   "metadata": {},
   "outputs": [
    {
     "data": {
      "text/plain": [
       "BlackFriday    0\n",
       "dtype: int64"
      ]
     },
     "execution_count": 9,
     "metadata": {},
     "output_type": "execute_result"
    }
   ],
   "source": [
    "promo_data.isna().sum()"
   ]
  },
  {
   "cell_type": "code",
   "execution_count": 10,
   "id": "23152876-8ae3-4f52-8b67-68616d55b5d3",
   "metadata": {},
   "outputs": [
    {
     "data": {
      "text/plain": [
       "Shipments    0\n",
       "dtype: int64"
      ]
     },
     "execution_count": 10,
     "metadata": {},
     "output_type": "execute_result"
    }
   ],
   "source": [
    "shipment_data.isna().sum()"
   ]
  },
  {
   "cell_type": "markdown",
   "id": "911e81aa-6162-44df-88fa-656094f16aa5",
   "metadata": {},
   "source": [
    "### Missing month"
   ]
  },
  {
   "cell_type": "code",
   "execution_count": 11,
   "id": "6cafc641-9bb8-47b0-8786-b91871d2158c",
   "metadata": {},
   "outputs": [
    {
     "data": {
      "text/plain": [
       "Sales    0\n",
       "dtype: int64"
      ]
     },
     "execution_count": 11,
     "metadata": {},
     "output_type": "execute_result"
    }
   ],
   "source": [
    "pos_data.asfreq('MS').isna().sum()"
   ]
  },
  {
   "cell_type": "code",
   "execution_count": 12,
   "id": "ddaca8f2-c633-4441-9494-72244841f906",
   "metadata": {},
   "outputs": [
    {
     "data": {
      "text/plain": [
       "Shipments    0\n",
       "dtype: int64"
      ]
     },
     "execution_count": 12,
     "metadata": {},
     "output_type": "execute_result"
    }
   ],
   "source": [
    "shipment_data.asfreq('MS').isna().sum()"
   ]
  },
  {
   "cell_type": "markdown",
   "id": "67916870-5b04-4d50-a33e-654c099dd024",
   "metadata": {},
   "source": [
    "### Combine dataframes into one"
   ]
  },
  {
   "cell_type": "code",
   "execution_count": 13,
   "id": "4339cd39-6f82-40ca-8767-c3932df43a30",
   "metadata": {},
   "outputs": [
    {
     "data": {
      "text/html": [
       "<div>\n",
       "<style scoped>\n",
       "    .dataframe tbody tr th:only-of-type {\n",
       "        vertical-align: middle;\n",
       "    }\n",
       "\n",
       "    .dataframe tbody tr th {\n",
       "        vertical-align: top;\n",
       "    }\n",
       "\n",
       "    .dataframe thead th {\n",
       "        text-align: right;\n",
       "    }\n",
       "</style>\n",
       "<table border=\"1\" class=\"dataframe\">\n",
       "  <thead>\n",
       "    <tr style=\"text-align: right;\">\n",
       "      <th></th>\n",
       "      <th>Sales</th>\n",
       "      <th>BlackFriday</th>\n",
       "      <th>Shipments</th>\n",
       "    </tr>\n",
       "    <tr>\n",
       "      <th>Date</th>\n",
       "      <th></th>\n",
       "      <th></th>\n",
       "      <th></th>\n",
       "    </tr>\n",
       "  </thead>\n",
       "  <tbody>\n",
       "    <tr>\n",
       "      <th>2011-01-01</th>\n",
       "      <td>266.0</td>\n",
       "      <td>0.0</td>\n",
       "      <td>100</td>\n",
       "    </tr>\n",
       "    <tr>\n",
       "      <th>2011-02-01</th>\n",
       "      <td>145.9</td>\n",
       "      <td>0.0</td>\n",
       "      <td>319</td>\n",
       "    </tr>\n",
       "    <tr>\n",
       "      <th>2011-03-01</th>\n",
       "      <td>183.1</td>\n",
       "      <td>0.0</td>\n",
       "      <td>247</td>\n",
       "    </tr>\n",
       "    <tr>\n",
       "      <th>2011-04-01</th>\n",
       "      <td>119.3</td>\n",
       "      <td>0.0</td>\n",
       "      <td>238</td>\n",
       "    </tr>\n",
       "    <tr>\n",
       "      <th>2011-05-01</th>\n",
       "      <td>180.3</td>\n",
       "      <td>0.0</td>\n",
       "      <td>214</td>\n",
       "    </tr>\n",
       "    <tr>\n",
       "      <th>2011-06-01</th>\n",
       "      <td>168.5</td>\n",
       "      <td>0.0</td>\n",
       "      <td>188</td>\n",
       "    </tr>\n",
       "    <tr>\n",
       "      <th>2011-07-01</th>\n",
       "      <td>231.8</td>\n",
       "      <td>0.0</td>\n",
       "      <td>195</td>\n",
       "    </tr>\n",
       "    <tr>\n",
       "      <th>2011-08-01</th>\n",
       "      <td>224.5</td>\n",
       "      <td>0.0</td>\n",
       "      <td>209</td>\n",
       "    </tr>\n",
       "    <tr>\n",
       "      <th>2011-09-01</th>\n",
       "      <td>192.8</td>\n",
       "      <td>0.0</td>\n",
       "      <td>241</td>\n",
       "    </tr>\n",
       "    <tr>\n",
       "      <th>2011-10-01</th>\n",
       "      <td>122.9</td>\n",
       "      <td>0.0</td>\n",
       "      <td>245</td>\n",
       "    </tr>\n",
       "    <tr>\n",
       "      <th>2011-11-01</th>\n",
       "      <td>336.5</td>\n",
       "      <td>1.0</td>\n",
       "      <td>231</td>\n",
       "    </tr>\n",
       "    <tr>\n",
       "      <th>2011-12-01</th>\n",
       "      <td>185.9</td>\n",
       "      <td>0.0</td>\n",
       "      <td>263</td>\n",
       "    </tr>\n",
       "    <tr>\n",
       "      <th>2012-01-01</th>\n",
       "      <td>194.3</td>\n",
       "      <td>0.0</td>\n",
       "      <td>251</td>\n",
       "    </tr>\n",
       "    <tr>\n",
       "      <th>2012-02-01</th>\n",
       "      <td>149.5</td>\n",
       "      <td>0.0</td>\n",
       "      <td>251</td>\n",
       "    </tr>\n",
       "    <tr>\n",
       "      <th>2012-03-01</th>\n",
       "      <td>210.1</td>\n",
       "      <td>0.0</td>\n",
       "      <td>259</td>\n",
       "    </tr>\n",
       "    <tr>\n",
       "      <th>2012-04-01</th>\n",
       "      <td>273.3</td>\n",
       "      <td>0.0</td>\n",
       "      <td>221</td>\n",
       "    </tr>\n",
       "    <tr>\n",
       "      <th>2012-05-01</th>\n",
       "      <td>191.4</td>\n",
       "      <td>0.0</td>\n",
       "      <td>248</td>\n",
       "    </tr>\n",
       "    <tr>\n",
       "      <th>2012-06-01</th>\n",
       "      <td>287.0</td>\n",
       "      <td>0.0</td>\n",
       "      <td>247</td>\n",
       "    </tr>\n",
       "    <tr>\n",
       "      <th>2012-07-01</th>\n",
       "      <td>226.0</td>\n",
       "      <td>0.0</td>\n",
       "      <td>288</td>\n",
       "    </tr>\n",
       "    <tr>\n",
       "      <th>2012-08-01</th>\n",
       "      <td>303.6</td>\n",
       "      <td>0.0</td>\n",
       "      <td>293</td>\n",
       "    </tr>\n",
       "    <tr>\n",
       "      <th>2012-09-01</th>\n",
       "      <td>289.9</td>\n",
       "      <td>0.0</td>\n",
       "      <td>302</td>\n",
       "    </tr>\n",
       "    <tr>\n",
       "      <th>2012-10-01</th>\n",
       "      <td>421.6</td>\n",
       "      <td>0.0</td>\n",
       "      <td>331</td>\n",
       "    </tr>\n",
       "    <tr>\n",
       "      <th>2012-11-01</th>\n",
       "      <td>264.5</td>\n",
       "      <td>1.0</td>\n",
       "      <td>372</td>\n",
       "    </tr>\n",
       "    <tr>\n",
       "      <th>2012-12-01</th>\n",
       "      <td>342.3</td>\n",
       "      <td>0.0</td>\n",
       "      <td>383</td>\n",
       "    </tr>\n",
       "    <tr>\n",
       "      <th>2013-01-01</th>\n",
       "      <td>339.7</td>\n",
       "      <td>0.0</td>\n",
       "      <td>395</td>\n",
       "    </tr>\n",
       "    <tr>\n",
       "      <th>2013-02-01</th>\n",
       "      <td>440.4</td>\n",
       "      <td>0.0</td>\n",
       "      <td>410</td>\n",
       "    </tr>\n",
       "    <tr>\n",
       "      <th>2013-03-01</th>\n",
       "      <td>315.9</td>\n",
       "      <td>0.0</td>\n",
       "      <td>416</td>\n",
       "    </tr>\n",
       "    <tr>\n",
       "      <th>2013-04-01</th>\n",
       "      <td>439.3</td>\n",
       "      <td>0.0</td>\n",
       "      <td>431</td>\n",
       "    </tr>\n",
       "    <tr>\n",
       "      <th>2013-05-01</th>\n",
       "      <td>401.3</td>\n",
       "      <td>0.0</td>\n",
       "      <td>460</td>\n",
       "    </tr>\n",
       "    <tr>\n",
       "      <th>2013-06-01</th>\n",
       "      <td>437.4</td>\n",
       "      <td>0.0</td>\n",
       "      <td>479</td>\n",
       "    </tr>\n",
       "    <tr>\n",
       "      <th>2013-07-01</th>\n",
       "      <td>575.5</td>\n",
       "      <td>0.0</td>\n",
       "      <td>478</td>\n",
       "    </tr>\n",
       "    <tr>\n",
       "      <th>2013-08-01</th>\n",
       "      <td>407.6</td>\n",
       "      <td>0.0</td>\n",
       "      <td>556</td>\n",
       "    </tr>\n",
       "    <tr>\n",
       "      <th>2013-09-01</th>\n",
       "      <td>682.0</td>\n",
       "      <td>0.0</td>\n",
       "      <td>546</td>\n",
       "    </tr>\n",
       "    <tr>\n",
       "      <th>2013-10-01</th>\n",
       "      <td>475.3</td>\n",
       "      <td>0.0</td>\n",
       "      <td>630</td>\n",
       "    </tr>\n",
       "    <tr>\n",
       "      <th>2013-11-01</th>\n",
       "      <td>581.3</td>\n",
       "      <td>1.0</td>\n",
       "      <td>642</td>\n",
       "    </tr>\n",
       "    <tr>\n",
       "      <th>2013-12-01</th>\n",
       "      <td>646.9</td>\n",
       "      <td>0.0</td>\n",
       "      <td>643</td>\n",
       "    </tr>\n",
       "  </tbody>\n",
       "</table>\n",
       "</div>"
      ],
      "text/plain": [
       "            Sales  BlackFriday  Shipments\n",
       "Date                                     \n",
       "2011-01-01  266.0          0.0        100\n",
       "2011-02-01  145.9          0.0        319\n",
       "2011-03-01  183.1          0.0        247\n",
       "2011-04-01  119.3          0.0        238\n",
       "2011-05-01  180.3          0.0        214\n",
       "2011-06-01  168.5          0.0        188\n",
       "2011-07-01  231.8          0.0        195\n",
       "2011-08-01  224.5          0.0        209\n",
       "2011-09-01  192.8          0.0        241\n",
       "2011-10-01  122.9          0.0        245\n",
       "2011-11-01  336.5          1.0        231\n",
       "2011-12-01  185.9          0.0        263\n",
       "2012-01-01  194.3          0.0        251\n",
       "2012-02-01  149.5          0.0        251\n",
       "2012-03-01  210.1          0.0        259\n",
       "2012-04-01  273.3          0.0        221\n",
       "2012-05-01  191.4          0.0        248\n",
       "2012-06-01  287.0          0.0        247\n",
       "2012-07-01  226.0          0.0        288\n",
       "2012-08-01  303.6          0.0        293\n",
       "2012-09-01  289.9          0.0        302\n",
       "2012-10-01  421.6          0.0        331\n",
       "2012-11-01  264.5          1.0        372\n",
       "2012-12-01  342.3          0.0        383\n",
       "2013-01-01  339.7          0.0        395\n",
       "2013-02-01  440.4          0.0        410\n",
       "2013-03-01  315.9          0.0        416\n",
       "2013-04-01  439.3          0.0        431\n",
       "2013-05-01  401.3          0.0        460\n",
       "2013-06-01  437.4          0.0        479\n",
       "2013-07-01  575.5          0.0        478\n",
       "2013-08-01  407.6          0.0        556\n",
       "2013-09-01  682.0          0.0        546\n",
       "2013-10-01  475.3          0.0        630\n",
       "2013-11-01  581.3          1.0        642\n",
       "2013-12-01  646.9          0.0        643"
      ]
     },
     "execution_count": 13,
     "metadata": {},
     "output_type": "execute_result"
    }
   ],
   "source": [
    "data = pd.concat([pos_data, promo_data, shipment_data], axis=1)\n",
    "data.BlackFriday = data.BlackFriday.replace(\"BlackFriday\", 1)\n",
    "data = data.fillna(0)\n",
    "data"
   ]
  },
  {
   "cell_type": "markdown",
   "id": "9dc01c47-36db-4c7f-b662-995535af701d",
   "metadata": {},
   "source": [
    "### Sales and Shipments time-series graph"
   ]
  },
  {
   "cell_type": "code",
   "execution_count": 14,
   "id": "112c8c31-19bd-4c51-9b42-1fca2f257a9b",
   "metadata": {},
   "outputs": [
    {
     "data": {
      "image/png": "[encoded data removed]",
      "text/plain": [
       "<Figure size 864x576 with 1 Axes>"
      ]
     },
     "metadata": {},
     "output_type": "display_data"
    }
   ],
   "source": [
    "sns.set_style('darkgrid')\n",
    "sns.set(font_scale = 1.2)\n",
    "\n",
    "plt.figure(figsize=(12,8))\n",
    "plt.title('Sales and Shipments time-series')\n",
    "sns.lineplot(x='Date', y='Sales', data=data, label='Sales')\n",
    "sns.lineplot(x='Date', y='Shipments', data=data, label='Shipments')\n",
    "plt.legend()\n",
    "plt.ylabel('')\n",
    "plt.xticks(rotation=70);"
   ]
  },
  {
   "cell_type": "markdown",
   "id": "c77ea3b3-0147-4aad-944f-af7870e40ec4",
   "metadata": {},
   "source": [
    "- Since we have `BlackFridays` each November we would expect increasing of `Sales` this month. This graph hardly tells us that `Sales` increase each November, so we'll do time-series decomposition to clearly see the trend and seasonality.\n",
    "- Sometimes `Shipments` are less than `Sales`, that may mean we have goods in stock."
   ]
  },
  {
   "cell_type": "markdown",
   "id": "7b1ac9bb-3863-4c6b-b6a2-1bfa0c26af88",
   "metadata": {},
   "source": [
    "### Time-series components"
   ]
  },
  {
   "cell_type": "markdown",
   "id": "83a16247-cef0-43b4-82cd-003a3ea8cb78",
   "metadata": {},
   "source": [
    "### <font color='red'>?</font> \n",
    "How decomposition works? Why we need to decompose? Reason behind Multiplicative Decompose? When it should be applied?"
   ]
  },
  {
   "cell_type": "code",
   "execution_count": null,
   "id": "09861283-4b01-40d9-8ae1-9f9bf390068c",
   "metadata": {},
   "outputs": [],
   "source": [
    "sales_decomp_add = seasonal_decompose(pos_data.Sales)\n",
    "sales_decomp_mul = seasonal_decompose(pos_data.Sales, model='multiplicative')\n",
    "plt.rcParams.update({'figure.figsize': (10,8)})\n",
    "\n",
    "sales_decomp_add.plot().suptitle('Additive Decompose')\n",
    "plt.tight_layout(rect=[0, 0, 0.95, 1])\n",
    "\n",
    "sales_decomp_mul.plot().suptitle('Multiplicative Decompose')\n",
    "plt.tight_layout(rect=[0, 0, 0.95, 1])\n",
    "plt.show()"
   ]
  },
  {
   "cell_type": "markdown",
   "id": "d94a1dca-20ea-4aa7-a4a9-e5db8fe88d30",
   "metadata": {},
   "source": [
    "We clearly see upward trend and some spikes in November (due to BlackFridays), April (probably due to Easter)."
   ]
  },
  {
   "cell_type": "code",
   "execution_count": null,
   "id": "b86fb7db-32ce-49f4-a76e-5a3d34c4d810",
   "metadata": {},
   "outputs": [],
   "source": [
    "shipment_decomp_add = seasonal_decompose(shipment_data.Shipments)\n",
    "shipment_decomp_mul = seasonal_decompose(shipment_data.Shipments, model='multiplicative')\n",
    "plt.rcParams.update({'figure.figsize': (10,8)})\n",
    "\n",
    "shipment_decomp_add.plot().suptitle('Additive Decompose')\n",
    "plt.tight_layout(rect=[0, 0, 0.95, 1])\n",
    "\n",
    "shipment_decomp_mul.plot().suptitle('Multiplicative Decompose')\n",
    "plt.tight_layout(rect=[0, 0, 0.95, 1])\n",
    "plt.show()"
   ]
  },
  {
   "cell_type": "markdown",
   "id": "710bc4d6-382c-44f3-939f-907d558c3c6f",
   "metadata": {},
   "source": [
    "There's also upward trend and spikes are in May and December. I may assume that Shipments increases these month to replenish stock after big Sales in April and November."
   ]
  },
  {
   "cell_type": "markdown",
   "id": "148f3650-6e19-4e7f-9e5f-f53bc7c6ce65",
   "metadata": {},
   "source": [
    "## Moving average"
   ]
  },
  {
   "cell_type": "markdown",
   "id": "c25eb905-1169-41df-b82d-69a834c60107",
   "metadata": {},
   "source": [
    "As a baseline model we'll use a **Simple Moving Average** (SMA) with different window's sizes. SMA is a rolling mean of the recent observations over a specific number of time periods. We'll calculate metrics MAPE and MAE using time series cross validation with 5 folds (we're going to evaluate the last 5 month individually)."
   ]
  },
  {
   "cell_type": "code",
   "execution_count": 15,
   "id": "e569526d-6c7a-4092-aebf-bea54906073c",
   "metadata": {},
   "outputs": [],
   "source": [
    "def ma():\n",
    "    predicted_values = []\n",
    "    values = data.Shipments\n",
    "    mae_errors, mape_errors = [], [] \n",
    "    eval_result = {}\n",
    "    \n",
    "    tscv = TimeSeriesSplit(n_splits=5, test_size=1) \n",
    "    for train, test in tscv.split(values):\n",
    "        rolling_mean = values[train].rolling(window=window).mean()[-1]\n",
    "        predicted_values.append(rolling_mean)\n",
    "        \n",
    "        mae_errors.append(mae(values[test].tolist(), np.array([rolling_mean])))\n",
    "        mape_errors.append(mape(values[test].tolist(), np.array([rolling_mean])))\n",
    "        \n",
    "    mae_errors = np.mean(np.array(mae_errors))\n",
    "    mape_errors = np.mean(np.array(mape_errors))\n",
    "    \n",
    "    eval_result['predicted'] = predicted_values\n",
    "    eval_result['mape'] = mape_errors\n",
    "    eval_result['mae'] = mae_errors\n",
    "    \n",
    "    return eval_result"
   ]
  },
  {
   "cell_type": "code",
   "execution_count": 16,
   "id": "8b808248-2dfa-46e8-bef1-be0fbbbdeef9",
   "metadata": {},
   "outputs": [
    {
     "name": "stdout",
     "output_type": "stream",
     "text": [
      "For window = 1:\n",
      "mape = 0.06243658403418294\n",
      "mae = 37.0\n",
      "\n",
      "For window = 2:\n",
      "mape = 0.08257949738502555\n",
      "mae = 49.3\n",
      "\n",
      "For window = 3:\n",
      "mape = 0.10981660400676604\n",
      "mae = 66.06666666666668\n",
      "\n",
      "For window = 4:\n",
      "mape = 0.133000794025731\n",
      "mae = 80.2\n",
      "\n"
     ]
    },
    {
     "data": {
      "image/png": "[encoded data removed]",
      "text/plain": [
       "<Figure size 864x576 with 1 Axes>"
      ]
     },
     "metadata": {},
     "output_type": "display_data"
    }
   ],
   "source": [
    "window_sizes = [1, 2, 3, 4]\n",
    "plt.figure(figsize=(12,8))\n",
    "plt.title('Moving average')\n",
    "plt.plot(data.Shipments[-5:], label='Actual values', color='black', linewidth=2)\n",
    "\n",
    "for window in window_sizes:\n",
    "    eval_results = ma()\n",
    "    mape_error = eval_results['mape']\n",
    "    mae_error = eval_results['mae']\n",
    "    predicted_values = eval_results['predicted']\n",
    "    print(f'For window = {window}:\\nmape = {mape_error}\\nmae = {mae_error}\\n')\n",
    "    plt.plot(data.Shipments[-5:].index, predicted_values, label=f'window: {window}')\n",
    "\n",
    "    \n",
    "plt.legend(loc='best')\n",
    "plt.show()"
   ]
  },
  {
   "cell_type": "markdown",
   "id": "00bdf61b-6acd-47ea-9cee-5a8c8ba7b01c",
   "metadata": {},
   "source": [
    "The window of 1 means that `Shipments` in the next month will be the same as in the past. As we expand our window for rolling mean calculations we get worse results of error metrics. Baseline model shows that we can get MAPE of **6.24%**. Though it's simple but it's far from perfect. Let's improve our results using Exponential Smoothing."
   ]
  },
  {
   "cell_type": "markdown",
   "id": "ec17da0d-205e-4711-b61d-5f603523bd9b",
   "metadata": {},
   "source": [
    "## Exponential Smoothing"
   ]
  },
  {
   "cell_type": "markdown",
   "id": "175bc97b-3fa3-47b0-b96b-970f060486d8",
   "metadata": {},
   "source": [
    "SMA assigns equal weight to all values but now let's weight all available observations while exponentially decreasing the weights as we move further back in time. We'll start with simple idea of exponential smoothing."
   ]
  },
  {
   "cell_type": "markdown",
   "id": "5b0152d2-eedd-4aeb-8722-95b5196187ee",
   "metadata": {},
   "source": [
    "### Simple exponential smoothing"
   ]
  },
  {
   "cell_type": "markdown",
   "id": "f113e0a8-d754-43ba-a896-f856181bc69f",
   "metadata": {},
   "source": [
    "The mathematical notation for this method is: $$\\hat{y}_x = \\alpha y_x + (1 - \\alpha)\\hat{y}_{x-1}$$ "
   ]
  },
  {
   "cell_type": "markdown",
   "id": "ede95ce0-10f5-448d-ab67-4e018aa3cb98",
   "metadata": {},
   "source": [
    "So we pick an  $0 < \\alpha < 1$ (also called **the smoothing factor**) and a starting value $\\hat{y}_0$ (the first value of the observed data) and then calculate $\\hat{y}_x$ for $x = \\overline{1, n}$ (also referred to as **levels**). <br> $\\alpha$ defines **how quickly we forget the last available true observation.** The smaller $\\alpha$ is, the more influence the previous historical observations have and the smoother the series is, whereas larger values of $\\alpha$ mean that the model pays attention mainly to the most recent past observations."
   ]
  },
  {
   "cell_type": "markdown",
   "id": "39a9be1b-1208-4533-93ae-f44f0570da03",
   "metadata": {},
   "source": [
    "### <font color='red'>?</font>\n",
    "What is `x` parameter? Which data is used to evaluate the model? How predictions are evaluated? "
   ]
  },
  {
   "cell_type": "markdown",
   "id": "776dd74a-1749-425f-8063-41451fc72fd9",
   "metadata": {},
   "source": [
    "### <font color='red'>!</font>\n",
    "A possibility to substitute data is generally better for code reusability.\n",
    "\n",
    "Check out `sklearn.model_selection.cross_val_score` in combination with `sklearn.pipeline`."
   ]
  },
  {
   "cell_type": "code",
   "execution_count": 75,
   "id": "061f5b14-5b2e-4f12-9597-e3f09deee542",
   "metadata": {},
   "outputs": [],
   "source": [
    "def exp_smooth_score(x):\n",
    "    mape_errors = []\n",
    "    mae_errors = []\n",
    "    predicted_values = []\n",
    "    eval_result = {}\n",
    "    values = data.Shipments.values\n",
    "    \n",
    "    tscv = TimeSeriesSplit(n_splits=5, test_size=1) \n",
    "    for train, test in tscv.split(values):\n",
    "        \n",
    "        if len(x) == 1:\n",
    "            alpha = x\n",
    "            model = SimpleExpSmoothing(values[train]).fit(smoothing_level=alpha)\n",
    "        elif len(x) == 2:\n",
    "            alpha, beta = x\n",
    "            model = ExponentialSmoothing(values[train], trend='additive').fit(smoothing_level=alpha, smoothing_trend=beta)\n",
    "        else:\n",
    "            alpha, beta, gamma = x\n",
    "            model = ExponentialSmoothing(values[train], trend='additive', \n",
    "                                         seasonal='additive', seasonal_periods=12).fit(smoothing_level=alpha, smoothing_trend=beta, smoothing_seasonal=gamma)\n",
    "        \n",
    "        predictions = model.forecast(len(test)) \n",
    "        predicted_values.append(predictions)\n",
    "\n",
    "        actual = values[test]\n",
    "        mape_errors.append(mape(actual, predictions))\n",
    "        mae_errors.append(mae(actual, predictions))\n",
    "    \n",
    "    eval_result['predicted'] = predicted_values\n",
    "    eval_result['mape'] = mape_errors\n",
    "    eval_result['mae'] = mae_errors\n",
    "\n",
    "    return eval_result"
   ]
  },
  {
   "cell_type": "markdown",
   "id": "e9319a90-0ee5-41da-9da1-eb4d353d322a",
   "metadata": {},
   "source": [
    "### Custom Estimator"
   ]
  },
  {
   "cell_type": "code",
   "execution_count": 117,
   "id": "45356084-b2d2-44a1-8280-db2c167ea55f",
   "metadata": {},
   "outputs": [],
   "source": [
    "class ExpEstimator(BaseEstimator):\n",
    "    def __init__(self):\n",
    "        pass\n",
    "\n",
    "    def fit(self, X, y=None, **kwargs):\n",
    "        # alpha = kwargs\n",
    "        self.simple_exp = SimpleExpSmoothing(X[:,0]).fit(smoothing_level=0.9)\n",
    "        return self\n",
    "\n",
    "    def predict(self, X):\n",
    "        return self.simple_exp.forecast(len(X[:,0]))"
   ]
  },
  {
   "cell_type": "code",
   "execution_count": 118,
   "id": "9fd6f8b0-3f5a-4e3e-90c9-7919cc1621d0",
   "metadata": {},
   "outputs": [],
   "source": [
    "mape_errors = []\n",
    "mae_errors = []\n",
    "predicted_values = []\n",
    "eval_result = {}\n",
    "values = data.Shipments.values\n",
    "\n",
    "tscv = TimeSeriesSplit(n_splits=5, test_size=1) \n",
    "for train, test in tscv.split(values):\n",
    "    \n",
    "    model = ExpEstimator()\n",
    "    model.fit(np.reshape(values[train], (-1, 1)))\n",
    "    \n",
    "    predictions = model.predict(np.reshape(values[test], (-1, 1)))\n",
    "    predicted_values.append(predictions)\n",
    "\n",
    "    actual = values[test]\n",
    "    mape_errors.append(mape(actual, predictions))\n",
    "    mae_errors.append(mae(actual, predictions))\n",
    "    \n",
    "    eval_result['predicted'] = predicted_values\n",
    "    eval_result['mape'] = mape_errors\n",
    "    eval_result['mae'] = mae_errors"
   ]
  },
  {
   "cell_type": "code",
   "execution_count": 119,
   "id": "9e04268b-1ac6-4905-8b72-4768e0e9717f",
   "metadata": {},
   "outputs": [
    {
     "name": "stdout",
     "output_type": "stream",
     "text": [
      "For alpha = 0.9:\n",
      "mape = 0.06279279029131443\n",
      "mae = 37.50113142322573\n",
      "\n"
     ]
    },
    {
     "data": {
      "image/png": "[encoded data removed]",
      "text/plain": [
       "<Figure size 864x576 with 1 Axes>"
      ]
     },
     "metadata": {},
     "output_type": "display_data"
    }
   ],
   "source": [
    "predicted_values = eval_result['predicted']\n",
    "mape_error = np.mean(eval_result['mape'])\n",
    "mae_error = np.mean(eval_result['mae'])\n",
    "print(f'For alpha = 0.9:\\nmape = {mape_error}\\nmae = {mae_error}\\n')\n",
    "    \n",
    "plot_results(x, y_true, predicted_values, title='Simple Exponential Smoothing on the last 5 month (the best experimental result)')"
   ]
  },
  {
   "cell_type": "code",
   "execution_count": null,
   "id": "672cde5a-e50d-438c-922c-7ae5efc79ba2",
   "metadata": {},
   "outputs": [],
   "source": []
  },
  {
   "cell_type": "code",
   "execution_count": null,
   "id": "6e6ef7d9-36fe-42b5-9746-4c85d65d1f6c",
   "metadata": {},
   "outputs": [],
   "source": []
  },
  {
   "cell_type": "code",
   "execution_count": null,
   "id": "7ff14e47-d30b-47f9-a2ea-5673e2d538b8",
   "metadata": {},
   "outputs": [],
   "source": []
  },
  {
   "cell_type": "code",
   "execution_count": null,
   "id": "a0eaa63f-ea2b-4716-9c06-6a37e63f3d29",
   "metadata": {},
   "outputs": [],
   "source": [
    "from sklearn.pipeline import Pipeline"
   ]
  },
  {
   "cell_type": "code",
   "execution_count": null,
   "id": "a1317145-ad2d-4ccc-b6f5-17a61cdf18dc",
   "metadata": {},
   "outputs": [],
   "source": [
    "values = data.Shipments.values\n",
    "\n",
    "tscv = TimeSeriesSplit(n_splits=5, test_size=1) \n",
    "for train, test in tscv.split(values):\n",
    "    X_train = values[train]\n",
    "    pipe = Pipeline([('simple_exp_smooth', SimpleExpSmoothing(X_train))])\n",
    "    pipe.fit(X_train)"
   ]
  },
  {
   "cell_type": "code",
   "execution_count": null,
   "id": "42f1d3d8-1656-4344-8c9e-a5cf5749ea3c",
   "metadata": {},
   "outputs": [],
   "source": []
  },
  {
   "cell_type": "code",
   "execution_count": null,
   "id": "58ec0418-7745-416a-ab16-72f824645d8d",
   "metadata": {},
   "outputs": [],
   "source": []
  },
  {
   "cell_type": "code",
   "execution_count": 77,
   "id": "fdd6266e-1368-4ed5-a2ba-1e61b60353a7",
   "metadata": {},
   "outputs": [],
   "source": [
    "def evaluate_mape(x):\n",
    "    mape_errors = exp_smooth_score(x)['mape']\n",
    "    return np.mean(np.array(mape_errors))"
   ]
  },
  {
   "cell_type": "code",
   "execution_count": 78,
   "id": "2e5b2339-8558-4b74-990c-57762d2be6d1",
   "metadata": {},
   "outputs": [],
   "source": [
    "def plot_results(x, y_true, y_pred, title):\n",
    "    plt.figure(figsize=(12,8))\n",
    "    plt.plot(x, y_true, label='Actual')\n",
    "    plt.plot(x, y_pred, label='Predicted')\n",
    "    plt.tick_params(axis='x', rotation=70)\n",
    "    plt.legend(loc='best')\n",
    "    plt.title(title)\n",
    "    plt.show()\n",
    "    \n",
    "x = data.Shipments[-5:].index.values\n",
    "y_true = data.Shipments[-5:].values"
   ]
  },
  {
   "cell_type": "markdown",
   "id": "79a2444f-2741-4ff8-ab1f-6573458be997",
   "metadata": {},
   "source": [
    "#### Experimenting with parameters"
   ]
  },
  {
   "cell_type": "markdown",
   "id": "22ec095e-7ad2-4bf2-bc06-f10fb54b2e11",
   "metadata": {},
   "source": [
    "Firstly, we'll choose some experimental parameters to compare error metrics. "
   ]
  },
  {
   "cell_type": "code",
   "execution_count": 79,
   "id": "57357d5b-ab9d-4720-90f7-2458bcd91c1d",
   "metadata": {},
   "outputs": [
    {
     "name": "stdout",
     "output_type": "stream",
     "text": [
      "For alpha = 0.1:\n",
      "mape = 0.32656559385702755\n",
      "mae = 197.42902456988492\n",
      "\n",
      "For alpha = 0.5:\n",
      "mape = 0.1053270264777536\n",
      "mae = 63.352515522746785\n",
      "\n",
      "For alpha = 0.9:\n",
      "mape = 0.06279279029131443\n",
      "mae = 37.50113142322573\n",
      "\n"
     ]
    },
    {
     "data": {
      "image/png": "[encoded data removed]",
      "text/plain": [
       "<Figure size 864x576 with 1 Axes>"
      ]
     },
     "metadata": {},
     "output_type": "display_data"
    }
   ],
   "source": [
    "alphas = [0.1, 0.5, 0.9]\n",
    "min_mape = 1\n",
    "\n",
    "for alpha in alphas:\n",
    "    exp_smooth = exp_smooth_score(np.array([alpha]))\n",
    "    predicted_values = exp_smooth['predicted']\n",
    "    mape_error = np.mean(exp_smooth['mape'])\n",
    "    mae_error = np.mean(exp_smooth['mae'])\n",
    "    print(f'For alpha = {alpha}:\\nmape = {mape_error}\\nmae = {mae_error}\\n')\n",
    "    \n",
    "    if min_mape > mape_error:\n",
    "        best_predicted_values = predicted_values\n",
    "        min_mape = mape_error\n",
    "    \n",
    "plot_results(x, y_true, best_predicted_values, title='Simple Exponential Smoothing on the last 5 month (the best experimental result)')"
   ]
  },
  {
   "cell_type": "markdown",
   "id": "8d7405b3-6d7a-48f8-b06e-d606cb76f6d0",
   "metadata": {},
   "source": [
    "So alpha of 0.9 gives better results of the error metrics, MAPE - **6.28%**. It's comparable to the result of applying SMA method - we got the best result taking the window's size of 1 which means that we looked only at previous observations. So in the case of Simple Exponential Smoothing large alpha tells us that we pay attention mainly to the most recent past observations without going deep into historical data.\n",
    "\n",
    "But our data has clear trend and seasonality, which are don't consider in this method. Let's explore someothers extensions of Simple Exponential Smoothing."
   ]
  },
  {
   "cell_type": "markdown",
   "id": "4cfd92c4-724d-40e0-bec7-7fa608b2243c",
   "metadata": {},
   "source": [
    "### Double exponential smoothing"
   ]
  },
  {
   "cell_type": "markdown",
   "id": "2de3ad1e-182c-4fee-a6b5-a1549ef428c8",
   "metadata": {},
   "source": [
    "Double Exponential Smoothing is an extension to Simple Exponential Smoothing that **explicitly adds support for trends** in the univariate time series. In addition to the $\\alpha$ parameter for controlling smoothing factor for the level, an additional smoothing factor is added to control the decay of the influence of the change in trend - $\\beta$. <br> Before we dive deeeper into mathematical formulas, let's introduce two notations: **the current trend**, denoted by $b$ (we can think of it as the slope of the time series), and **the current level**, denoted by $l$. "
   ]
  },
  {
   "cell_type": "markdown",
   "id": "b66f54dd-9f73-4c37-8a1c-3e64c737b633",
   "metadata": {},
   "source": [
    "Some math behind this idea: \n",
    "$$l_x = \\alpha y_x + (1 - \\alpha)(l_{x-1} + b_{x-1})$$ \n",
    "$$b_x = \\beta(l_x - l_{x-1}) + (1 - \\beta)b_{x-1}$$ \n",
    "$$\\hat{y}_{x+1} = l_x + b_x$$ "
   ]
  },
  {
   "cell_type": "markdown",
   "id": "0b0825bb-2e37-48ab-addd-abc7f022db0b",
   "metadata": {},
   "source": [
    "- $l$, level is simply predicted point. It's a part of calculation of the forecast.\n",
    "- Bigger values of $0<\\beta<1$ mean that the model don't give much weight to the past trends when estimating current trend.\n",
    "- The method supports **trend that changes in different ways: an additive and a multiplicative**, depending on whether the trend is linear or exponential respectively. Double Exponential Smoothing with an additive trend is classically referred to as **Holt’s linear trend model**. To compute the initial additive trend we may use the first two points: $y_x - y_{x-1}$. When the trend is multiplicative we could use the ratio $y_x / y_{x-1}$."
   ]
  },
  {
   "cell_type": "markdown",
   "id": "960008b7-964b-4c21-ae89-73d08dd7111c",
   "metadata": {},
   "source": [
    "#### Experimenting with parameters"
   ]
  },
  {
   "cell_type": "code",
   "execution_count": null,
   "id": "6df0d943-32df-4909-86c5-fad71e33734a",
   "metadata": {},
   "outputs": [],
   "source": [
    "alphas = [0.1, 0.9]\n",
    "betas = [0.1, 0.9]\n",
    "min_mape = 1\n",
    "\n",
    "for alpha in alphas:\n",
    "    for beta in betas:\n",
    "        exp_smooth = exp_smooth_score([alpha, beta])\n",
    "        predicted_values = exp_smooth['predicted']\n",
    "        mape_error = np.mean(exp_smooth['mape'])\n",
    "        mae_error = np.mean(exp_smooth['mae'])\n",
    "        print(f'For alpha = {alpha}, beta = {beta}:\\nmape = {mape_error}\\nmae = {mae_error}\\n')\n",
    "        \n",
    "        if min_mape > mape_error:\n",
    "            best_predicted_values = predicted_values\n",
    "            min_mape = mape_error\n",
    "    \n",
    "plot_results(x, y_true, best_predicted_values, title='Double Exponential Smoothing on the last 5 month (the best experimental result)')"
   ]
  },
  {
   "cell_type": "markdown",
   "id": "2f712535-f1c6-45b5-a419-95388d6a1ec5",
   "metadata": {},
   "source": [
    "Now our model takes into account trend of time-series, so alpha of 0.1 and beta of 0.9 give better result MAPE which is **4.056%**. Let's include seasonal component in our model and compare the results as well."
   ]
  },
  {
   "cell_type": "markdown",
   "id": "8f8cd2e6-c291-42ad-9425-c5b7da300662",
   "metadata": {},
   "source": [
    "### Triple exponential smoothing"
   ]
  },
  {
   "cell_type": "markdown",
   "id": "308a9218-5b5e-4c35-8648-8864e323544f",
   "metadata": {},
   "source": [
    "The idea behind this method (also called **Holt-Winters Method**) is to apply Exponential Smoothing to a third component - **seasonality**, $s$. This seasonal components in the model will explain repeated variations around intercept and trend, and it will be specified by the length of the season, in other words, by the period which the variations repeats itself. So for each observation in the season, there will be a separate component. \n",
    "<br> The mathematical notation for this method is:\n",
    "$$l_x = \\alpha (y_x - s_{x-L}) + (1 - \\alpha)(l_{x-1} + b_{x-1})$$ \n",
    "$$b_x = \\beta(l_x - l_{x-1}) + (1 - \\beta)b_{x-1}$$ \n",
    "$$s_x = \\gamma(y_x - l_{x}) + (1 - \\gamma)s_{x-L}$$ \n",
    "$$\\hat{y}_{x+m} = l_x + m b_x + s_{x-L+(m-1)modL}$$"
   ]
  },
  {
   "cell_type": "markdown",
   "id": "36ced7b8-f824-4950-8104-f9845772ad38",
   "metadata": {},
   "source": [
    "- $L$, season length is the number of data points after which a new season begins.\n",
    "- There is a new parameter  $0<\\gamma<1$ that controls the influence on the seasonal component.\n",
    "- The index for the forecast $\\hat{y}_{x+m}$ is $x+m$ where $m$ can be any integer. It means we can forecast any number of points into the future while accounting for previous value, trend and seasonality.\n",
    "- The index of the seasonal component $s_{x-L+(m-1)modL}$ offsets into our observed data list of seasonal components. \n",
    "<br> For example, if we are forecasting the 3rd point into the season, and we are 12 seasons into the future, we cannot use seasonal components from the 11th season in the future since that season is also generated by our forecasting procedure, we must use the last set of seasonal components from observed points, or from \"the past\".\n"
   ]
  },
  {
   "cell_type": "markdown",
   "id": "007f5f58-5da2-47d0-ba80-bec7b31da295",
   "metadata": {},
   "source": [
    "**Initial values for the trend factor**\n",
    "<br>The most common practice here is to compute the average trend averages across seasons:\n",
    "$$b = \\frac{1}{L}(\\frac{y_{L+1} - y_1}{L} + \\frac{y_{L+2} - y_2}{L} + \\ldots + \\frac{y_{L+L} - y_L}{L})$$"
   ]
  },
  {
   "cell_type": "markdown",
   "id": "0697ad0e-2688-4c06-8e2e-99a0bc50333b",
   "metadata": {},
   "source": [
    "**Initial values for the seasonal indices**\n",
    "<br> We need:\n",
    "- to compute the averages for every observed season \n",
    "- to subtract every observed value by the average for the season it's in\n",
    "- to  average each of these numbers across our observed seasons"
   ]
  },
  {
   "cell_type": "markdown",
   "id": "fcec6aa1-1d90-47e4-a901-656ec8234950",
   "metadata": {},
   "source": [
    "#### Experimenting with parameters"
   ]
  },
  {
   "cell_type": "code",
   "execution_count": null,
   "id": "c66178cc-e958-40b1-8414-202ab37fcfa4",
   "metadata": {},
   "outputs": [],
   "source": [
    "alphas = [0.1, 0.9]\n",
    "betas = [0.1, 0.9]\n",
    "gammas = [0.1, 0.9]\n",
    "\n",
    "for alpha in alphas:\n",
    "    for beta in betas:\n",
    "        for gamma in gammas:\n",
    "            exp_smooth = exp_smooth_score([alpha, beta, gamma])\n",
    "            predicted_values = exp_smooth['predicted']\n",
    "            mape_error = np.mean(exp_smooth['mape'])\n",
    "            mae_error = np.mean(exp_smooth['mae'])\n",
    "            print(f'For alpha = {alpha}, beta = {beta}, gamma = {gamma}:\\nmape = {mape_error}\\nmae = {mae_error}\\n')\n",
    "            \n",
    "            if min_mape > mape_error:\n",
    "                best_predicted_values = predicted_values\n",
    "                min_mape = mape_error\n",
    "    \n",
    "plot_results(x, y_true, best_predicted_values, title='Triple Exponential Smoothing on the last 5 month (the best experimental result)')"
   ]
  },
  {
   "cell_type": "markdown",
   "id": "a2f56d2c-de06-4c2f-80ce-0e43ee2bc70a",
   "metadata": {},
   "source": [
    "We get **MAPE of 3.395%** when applied Exponential Smoothing both to trean and seasonality. So we may do better by optimizing our parameters. \n",
    "<br>Let's use local optimization method and adjust the parameters to the values 0.1, 0.9, 0.9."
   ]
  },
  {
   "cell_type": "code",
   "execution_count": null,
   "id": "23c5cbd7-f344-47e3-ac51-8c702f83f74b",
   "metadata": {},
   "outputs": [],
   "source": [
    "x = [0.09, 0.7, 0.7]\n",
    "opt = minimize(evaluate_mape, x0=x, bounds=((0.09, 1), (0.7, 1), (0.7, 1)))\n",
    "opt.x"
   ]
  },
  {
   "cell_type": "code",
   "execution_count": null,
   "id": "c25712f2-911e-41a8-ba32-e9d203dc3c5f",
   "metadata": {},
   "outputs": [],
   "source": [
    "exp_smooth = exp_smooth_score(opt.x)\n",
    "predicted_values = exp_smooth['predicted']\n",
    "mape_score = np.mean(np.array(exp_smooth['mape']))\n",
    "mae_score = np.mean(np.array(exp_smooth['mae']))\n",
    "mape_score"
   ]
  },
  {
   "cell_type": "code",
   "execution_count": null,
   "id": "7a801241-45ce-49aa-ad4e-daf352a04be4",
   "metadata": {},
   "outputs": [],
   "source": [
    "alpha, beta, gamma = opt.x\n",
    "print(f'For alpha = {alpha}, beta = {beta}, gamma = {gamma}\\nmape: {mape_score}\\nmae: {mae_score}\\n')\n",
    "\n",
    "plot_results(x, y_true, predicted_values,, title='Triple Exponential Smoothing on the last 5 month')"
   ]
  },
  {
   "cell_type": "markdown",
   "id": "cbb5f84b-e242-48d0-ae11-8f75296b8094",
   "metadata": {},
   "source": []
  },
  {
   "cell_type": "markdown",
   "id": "afa60ced-3d4b-478f-858e-e294397f7348",
   "metadata": {},
   "source": [
    "### <font color='red'>!</font>\n",
    "Oops, copy-paste!"
   ]
  },
  {
   "cell_type": "code",
   "execution_count": null,
   "id": "46ad57d8-a16f-4e16-8818-dc939db070f0",
   "metadata": {},
   "outputs": [],
   "source": [
    "def exp_smooth_score(x):\n",
    "    mape_errors = []\n",
    "    mae_errors = []\n",
    "    predicted_values = []\n",
    "    eval_result = {}\n",
    "    values = data.Shipments.values\n",
    "    alpha, beta, gamma = x\n",
    "    \n",
    "    tscv = TimeSeriesSplit(n_splits=5, test_size=1) \n",
    "    for train, test in tscv.split(values):\n",
    "    \n",
    "        model = ExponentialSmoothing(values[train], trend='mul', \n",
    "                                         seasonal='additive', seasonal_periods=12).fit(smoothing_level=alpha, smoothing_trend=beta, smoothing_seasonal=gamma)\n",
    "        # print(model.params)\n",
    "        \n",
    "        predictions = model.forecast(len(test)) \n",
    "        predicted_values.append(predictions)\n",
    "\n",
    "        actual = values[test]\n",
    "        mape_errors.append(mape(actual, predictions))\n",
    "        mae_errors.append(mae(actual, predictions))\n",
    "    \n",
    "    eval_result['predicted'] = predicted_values\n",
    "    eval_result['mape'] = mape_errors\n",
    "    eval_result['mae'] = mae_errors\n",
    "\n",
    "    return eval_result"
   ]
  },
  {
   "cell_type": "markdown",
   "id": "5279271a-0d0a-494b-bfc1-c951df098030",
   "metadata": {},
   "source": [
    "#### Optimizing parameters"
   ]
  },
  {
   "cell_type": "code",
   "execution_count": null,
   "id": "c6daabc5-a668-4811-858d-27a78afd9357",
   "metadata": {},
   "outputs": [],
   "source": [
    "evaluate_mape(exp_smooth_score([1, 1, 1])) # trend additive, seasson additive"
   ]
  },
  {
   "cell_type": "code",
   "execution_count": null,
   "id": "e1db4105-344c-47c4-9263-9e2881165cb8",
   "metadata": {},
   "outputs": [],
   "source": [
    "evaluate_mape(exp_smooth_score([1, 1, 1])) # trend mul, seasson additive"
   ]
  },
  {
   "cell_type": "code",
   "execution_count": null,
   "id": "edf3c9e2-adde-4be6-98d2-48efbabedc10",
   "metadata": {},
   "outputs": [],
   "source": []
  },
  {
   "cell_type": "markdown",
   "id": "bb0070f2-1be9-4971-94fa-08809bdefd42",
   "metadata": {},
   "source": [
    "## Linear regression using Lag features"
   ]
  },
  {
   "cell_type": "markdown",
   "id": "1bddbd54-1c7f-46d6-ad69-5667bc9c6f2d",
   "metadata": {},
   "source": [
    "Another different method to forecast a time-series is to use past values called **Lags as predictors in Linear Regression model**."
   ]
  },
  {
   "cell_type": "markdown",
   "id": "4bc20abe-ff3c-4414-a788-9ae79fc128d8",
   "metadata": {},
   "source": [
    "### Use two lags - initial model"
   ]
  },
  {
   "cell_type": "markdown",
   "id": "888c4b43-2ea6-498c-98ea-c6d5de00782e",
   "metadata": {},
   "source": [
    "As we predict `Shipments` in the current month for the next one month and we know `Shipments` for the previous month but we don't know yet `Sales` for the previous month, we'll take **Lag_1** for `Shipments` and **Lag_2** for `Sales`.\n",
    "\n",
    "<br> **Note: As we use lags as features, there're NaNs in our data and we should handle it.**\n",
    "- **Zero** isn't a reasonable value to be replaced with.\n",
    "- Replacing missing values with **mean or median** can data leak also computing mean and median doesn't consider trend/seasonality.\n",
    "- **Last Observation Carried Forward and Next Observation Carried Backward techiques** also don't make sense within our task.\n",
    "- As NaNs are continuous from the beggining to the N-th lag, **interpolation methods** are also not the way of handling missing data caused by lags.\n",
    "\n",
    "Therefore, we'll just **drop NaNs** that appeared after creating of lags."
   ]
  },
  {
   "cell_type": "markdown",
   "id": "32800f79-2054-4dfc-a8e0-c3e6557e2a42",
   "metadata": {},
   "source": [
    "### <font color='red'>!</font>\n",
    "With whole pipeline (from data preparation, feature selection, etc.) it's easier to follow the data flow in the model, whereas having consecutive transforming functions makes it reader's responsibility.\n",
    "\n",
    "Check out pipelines, transformers, estimators from sklearn."
   ]
  },
  {
   "cell_type": "code",
   "execution_count": null,
   "id": "918524bf-8966-46fb-ad1d-e855d6f58314",
   "metadata": {},
   "outputs": [],
   "source": []
  },
  {
   "cell_type": "code",
   "execution_count": null,
   "id": "44e5e7db-7601-47e8-894d-4f65381c4244",
   "metadata": {},
   "outputs": [],
   "source": [
    "def make_lags(ts, lags):\n",
    "    return pd.concat(\n",
    "        {\n",
    "            f'{ts.name}_lag_{i}': ts.shift(i)\n",
    "            for i in lags\n",
    "        },\n",
    "        axis=1)"
   ]
  },
  {
   "cell_type": "code",
   "execution_count": null,
   "id": "453f6397-09b4-47e5-a8cc-60b1f92e20df",
   "metadata": {},
   "outputs": [],
   "source": [
    "from sklearn.preprocessing import FunctionTransformer\n",
    "transformer = FunctionTransformer(make_lags)"
   ]
  },
  {
   "cell_type": "code",
   "execution_count": null,
   "id": "e2e1b8d2-daee-4097-a6c1-3b9799c0bd2c",
   "metadata": {},
   "outputs": [],
   "source": []
  },
  {
   "cell_type": "code",
   "execution_count": null,
   "id": "ac6b64f0-e580-4874-930b-f05cf6f2770e",
   "metadata": {},
   "outputs": [],
   "source": [
    "from sklearn.pipeline import make_pipeline\n",
    "from sklearn.model_selection import cross_val_score\n",
    "\n",
    "clf = make_pipeline(LinearRegression())\n",
    "np.mean(-cross_val_score(clf, X, y, scoring='neg_mean_absolute_percentage_error', cv=tscv))"
   ]
  },
  {
   "cell_type": "code",
   "execution_count": null,
   "id": "ed85321f-510e-43a2-bc88-79a52d409ac1",
   "metadata": {},
   "outputs": [],
   "source": []
  },
  {
   "cell_type": "code",
   "execution_count": null,
   "id": "9a243c5a-c6be-48c1-8469-c5ac1ad32e45",
   "metadata": {},
   "outputs": [],
   "source": []
  },
  {
   "cell_type": "code",
   "execution_count": null,
   "id": "eceb4e9e-e525-406b-a3c9-560c4fdcd291",
   "metadata": {
    "tags": []
   },
   "outputs": [],
   "source": [
    "data_lag = data.copy()\n",
    "sales_lags = make_lags(data_lag.Sales, [2])\n",
    "shipments_lags = make_lags(data_lag.Shipments, [1])\n",
    "\n",
    "res = pd.concat([sales_lags, shipments_lags, data_lag[['BlackFriday']]], axis=1)\n",
    "res.dropna(inplace=True)\n",
    "\n",
    "X, y = res, data_lag[['Shipments']][2:]"
   ]
  },
  {
   "cell_type": "markdown",
   "id": "1ee2e2c0-c849-40e9-a3a8-81f96856f89d",
   "metadata": {},
   "source": [
    "### <font color='red'>!</font>\n",
    "Reusing evaluation for different models (pipelines) helps track each model's contribution: you can see how final metric changes with changing only the model, and all the inputs / metrics calculation stays the same."
   ]
  },
  {
   "cell_type": "code",
   "execution_count": null,
   "id": "586618a4-ffcf-4506-9262-a967ac5e3337",
   "metadata": {},
   "outputs": [],
   "source": [
    "def evaluate(model, X, y):\n",
    "    tscv = TimeSeriesSplit(n_splits=5, test_size=1) \n",
    "\n",
    "    mae_errors, mape_errors = [], []\n",
    "    predicted_values = []\n",
    "    for train, test in tscv.split(X):\n",
    "        model.fit(X.values[train], y.values[train])\n",
    "        prediction = model.predict(X.values[test])\n",
    "        predicted_values.append(prediction[0])\n",
    "    \n",
    "        mae_errors.append(mae(y.values[test], prediction))\n",
    "        mape_errors.append(mape(y.values[test], prediction))\n",
    "    \n",
    "    mae_errors = np.mean(np.array(mae_errors))\n",
    "    mape_errors = np.mean(np.array(mape_errors))\n",
    "\n",
    "    print(f'mape = {mape_errors}\\nmae = {mae_errors}\\n')\n",
    "    return predicted_values"
   ]
  },
  {
   "cell_type": "code",
   "execution_count": null,
   "id": "4bde5c0f-4dcc-4c6d-9bbf-7d4804addb54",
   "metadata": {},
   "outputs": [],
   "source": [
    "lin_reg = LinearRegression()"
   ]
  },
  {
   "cell_type": "code",
   "execution_count": null,
   "id": "d23407d0-416f-46f8-a120-56d42a92d53c",
   "metadata": {},
   "outputs": [],
   "source": [
    "predicted_values = evaluate(lin_reg, X, y)\n",
    "plot_results(x, y_true, predicted_values, title='Linear regression with initial 2 lag features on the last 5 month')"
   ]
  },
  {
   "cell_type": "markdown",
   "id": "4f92b179-64ce-454c-800e-6ee2a1693002",
   "metadata": {},
   "source": [
    "So we took only 2 lags and got MAPE of 8.47% but I assume that we can improve our error metric results by choosing more lags."
   ]
  },
  {
   "cell_type": "markdown",
   "id": "022c0244-a049-42d2-9aad-ee0226435dcd",
   "metadata": {},
   "source": [
    "### Choosing lags"
   ]
  },
  {
   "cell_type": "markdown",
   "id": "09fe31fb-d8f0-4d91-9935-9961e0004d63",
   "metadata": {},
   "source": [
    "When choosing lags to use as features, it generally won't be useful to include every lag because we may end up with large autocorrelation. We'll use different techhiques to choose lags in order to get the best model performance."
   ]
  },
  {
   "cell_type": "markdown",
   "id": "88237209-5872-43f0-8489-69994845800c",
   "metadata": {},
   "source": [
    "### Partial Autocorrelation plot"
   ]
  },
  {
   "cell_type": "markdown",
   "id": "15b5f73d-8f19-479e-9973-7bb43a5c5778",
   "metadata": {},
   "source": [
    "Plotting the partial autocorrelation may help us to choose which lag features to use.\n",
    "<br> Partial autocorrelation can be imagined as the **pure correlation** between the series and its lag, after excluding the contributions from the intermediate lags. So it's the relation between observed at two-time spots given that we consider both observations are correlated to the observations at other time spots."
   ]
  },
  {
   "cell_type": "code",
   "execution_count": null,
   "id": "11a547a1-2529-43fb-9e4e-791939516415",
   "metadata": {},
   "outputs": [],
   "source": [
    "plot_pacf(data.Sales, method='ols') \n",
    "plt.title('Partial Autocorrelation for Sales')\n",
    "\n",
    "plot_pacf(data.Shipments, method='ols') \n",
    "plt.title('Partial Autocorrelation for Shipments')\n",
    "plt.show()"
   ]
  },
  {
   "cell_type": "markdown",
   "id": "ba250c66-18d0-44a4-a0aa-b111d8aa948e",
   "metadata": {},
   "source": [
    "We used the **ols** (ordinary least squares) method as it fits a linear regression model with intercept using the original series as the target and the lagged series as the features. The main difference between two ols methods (efficient and inefficient) is that in the efficient approach we iteratively decreased the number of observations whereas in the inefficient we remove the first N (amount of lags) observations at the beginning.\n",
    "<br><p>In the partial autocorrelation plot, the light blue area shows the significant threshold value, and every vertical line indicates the PACF values at each time spot. So in the plot, only the vertical lines that exceed the light blue area are considered significant. Lag_0 is time-series itself so the correlation is always equal to 1.\n",
    "\n",
    "- For `Sales` we'll choose **Lag_2, Lag_3, Lag_5**. Even though at Lag_1 we'll see high correlation, we don't choose it as we don't know `Sales` for the previous month according to the task.\n",
    "- For `Shipments` we'll choose **Lag_1** as we did before."
   ]
  },
  {
   "cell_type": "code",
   "execution_count": null,
   "id": "5436e6cf-b534-4d28-8c94-843ed77a1509",
   "metadata": {},
   "outputs": [],
   "source": [
    "data_lag = data.copy()\n",
    "X = make_lags(data_lag.Sales, [2, 3, 5])\n",
    "y = make_lags(data_lag.Shipments, [1])"
   ]
  },
  {
   "cell_type": "code",
   "execution_count": null,
   "id": "5cb6e2ef-c024-4d71-a88b-442695bff071",
   "metadata": {},
   "outputs": [],
   "source": [
    "res = pd.concat([X, y], axis=1)\n",
    "res = pd.concat([res, data_lag[['BlackFriday']]], axis=1)\n",
    "res.dropna(inplace=True)"
   ]
  },
  {
   "cell_type": "code",
   "execution_count": null,
   "id": "caf1c247-8785-4ebe-b0d5-45c95f9d604c",
   "metadata": {},
   "outputs": [],
   "source": [
    "X, y = res, data_lag[['Shipments']][5:]"
   ]
  },
  {
   "cell_type": "code",
   "execution_count": null,
   "id": "50e0a25a-bc7d-4033-a12a-b0a8d56379e1",
   "metadata": {},
   "outputs": [],
   "source": [
    "predicted_values = evaluate(lin_reg, X, y)\n",
    "plot_results(x, y_true, predicted_values, title='Linear regression with lag features from PACF on the last 5 month')"
   ]
  },
  {
   "cell_type": "markdown",
   "id": "c65987b8-055a-4b62-a1d7-b3d3feaa379e",
   "metadata": {},
   "source": [
    "As we choosed more lags for `Sales` we decreased error metrics. But for now we did it manually with the help of partial autocorrelation plot. Let's use some feature selection methods and see what lags as features will be choosen. "
   ]
  },
  {
   "cell_type": "markdown",
   "id": "a98daf94-a809-4f3d-b239-e0cd5bfa82fd",
   "metadata": {},
   "source": [
    "### Feature Selection techniques"
   ]
  },
  {
   "cell_type": "markdown",
   "id": "97594a04-6a29-4efb-8bcd-ea13db75c849",
   "metadata": {},
   "source": [
    "We'll cover:\n",
    "- Lasso + SelectFromModel\n",
    "- RandomForestRegressor + Boruta\n",
    "\n",
    "The idea is to use a baseline model to evaluate features, so the model should clearly show the importance of the features used. As a basiline model wi'll use: linear model Lasso, that tends to produce zero coefficients, and RandomForrest. The logic is clear: if the features are clearly useless in a simple model, then there is no need to drag them into a more complex one."
   ]
  },
  {
   "cell_type": "markdown",
   "id": "d06d863e-02ad-425d-8c29-e70caf75fb0b",
   "metadata": {},
   "source": [
    "#### Lasso + SelectFromModel"
   ]
  },
  {
   "cell_type": "markdown",
   "id": "79d39dce-b599-4ac9-8eed-399cba2a06b7",
   "metadata": {},
   "source": [
    "SelectFromModel keeps features whose importance (estimated by Lasso) is greater or equal than a specific threshold (mean, median or in a case with Lasso threshold equals to 1e-5), while others are discard."
   ]
  },
  {
   "cell_type": "code",
   "execution_count": null,
   "id": "3eae1c55-6695-4686-92ca-6c054e2b36f6",
   "metadata": {},
   "outputs": [],
   "source": [
    "data_lag = data.copy()\n",
    "\n",
    "sales_lags_count = list(range(2, 6))\n",
    "shipments_lags_count = list(range(1, 6))\n",
    "sales_lags = make_lags(data_lag.Sales, sales_lags_count)\n",
    "shipments_lags = make_lags(data_lag.Shipments, shipments_lags_count)\n",
    "\n",
    "res = pd.concat([sales_lags, shipments_lags], axis=1)\n",
    "res.dropna(inplace=True)"
   ]
  },
  {
   "cell_type": "code",
   "execution_count": null,
   "id": "2c8e2adc-07c1-4590-8aa8-a9cb4e8693d5",
   "metadata": {},
   "outputs": [],
   "source": [
    "scaler = StandardScaler()\n",
    "res_scaled = pd.DataFrame(scaler.fit_transform(res[:-5]), columns=res.columns)\n",
    "df_scaled = pd.concat([res_scaled, data_lag.BlackFriday[5:-5].reset_index(drop=True)], axis=1)"
   ]
  },
  {
   "cell_type": "code",
   "execution_count": null,
   "id": "e42db3b9-227c-4fcf-9682-fcfeb9527f81",
   "metadata": {},
   "outputs": [],
   "source": [
    "X, y = df_scaled, scaler.fit_transform(data_lag[['Shipments']][5:-5])"
   ]
  },
  {
   "cell_type": "code",
   "execution_count": null,
   "id": "2b59b627-8e9e-4511-8cf9-6724ee8bf78d",
   "metadata": {},
   "outputs": [],
   "source": [
    "selection_model = Lasso(alpha=0.1).fit(X, y)\n",
    "model = SelectFromModel(selection_model, prefit=True)"
   ]
  },
  {
   "cell_type": "code",
   "execution_count": null,
   "id": "9cd08a94-1dbc-4d78-9397-c7b6122c9524",
   "metadata": {},
   "outputs": [],
   "source": [
    "columns_to_keep = df_scaled.columns[model.get_support()].values.tolist()\n",
    "columns_to_keep"
   ]
  },
  {
   "cell_type": "code",
   "execution_count": null,
   "id": "6f1a7b92-219b-415b-b9ad-6ceda9f50854",
   "metadata": {},
   "outputs": [],
   "source": [
    "delete = [c for c in res.columns.values.tolist() if c not in columns_to_keep]\n",
    "reduced_data = res.drop(delete, axis=1)"
   ]
  },
  {
   "cell_type": "code",
   "execution_count": null,
   "id": "15b60d81-ad40-47f3-bcf2-e06d7e51c7b2",
   "metadata": {},
   "outputs": [],
   "source": [
    "X, y = reduced_data, data_lag['Shipments'][5:]"
   ]
  },
  {
   "cell_type": "code",
   "execution_count": null,
   "id": "121ca464-fd6a-4021-b821-5e47f204a2f2",
   "metadata": {},
   "outputs": [],
   "source": [
    "predicted_values = evaluate(lin_reg, X, y)\n",
    "plot_results(x, y_true, predicted_values, title='Linear regression with lag features using Lasso + SelectFromModel on the last 5 month')"
   ]
  },
  {
   "cell_type": "markdown",
   "id": "b44a9f06-8f95-4372-b7aa-b871600683bf",
   "metadata": {},
   "source": [
    "The results of MAPE are better after applying Lasso model. Let's try to tune Lasso parameters to get better result. One way to do this is to use GridSearch method."
   ]
  },
  {
   "cell_type": "markdown",
   "id": "238f0fe9-5201-4b41-9774-9e7fbdb52f48",
   "metadata": {},
   "source": [
    "#### GridSearch + Lasso"
   ]
  },
  {
   "cell_type": "markdown",
   "id": "5768db02-dc39-4be8-bd4c-9e55817b0dbc",
   "metadata": {},
   "source": [
    "In a nutshell Grid Search allows to pass through all different combinations of given model parameters and their values and choose the best combination. One of the major drawbacks of grid search is that when it comes to dimensionality, it suffers when the number of hyperparameters grows exponentially."
   ]
  },
  {
   "cell_type": "code",
   "execution_count": null,
   "id": "8805222c-6d2f-4582-9b6c-441ff3d82b80",
   "metadata": {},
   "outputs": [],
   "source": [
    "parameters = {\n",
    "    'alpha': np.linspace(0.1, 1, 10), \n",
    "    'fit_intercept':['True', 'False'],\n",
    "    'max_iter': np.linspace(100, 1500, 8),\n",
    "    'tol':np.linspace(0.0001, 0.001, 4)\n",
    "}"
   ]
  },
  {
   "cell_type": "code",
   "execution_count": null,
   "id": "a16d3d0f-0195-44e9-9c2d-1dcf172a108a",
   "metadata": {},
   "outputs": [],
   "source": [
    "tscv = TimeSeriesSplit(n_splits=5, test_size=1) \n",
    "\n",
    "grid = GridSearchCV(Lasso(), \n",
    "                    parameters, \n",
    "                    cv=tscv, \n",
    "                    scoring='neg_mean_absolute_percentage_error')"
   ]
  },
  {
   "cell_type": "code",
   "execution_count": null,
   "id": "8964f0cb-1296-43a3-b2dd-e073e17f7439",
   "metadata": {},
   "outputs": [],
   "source": [
    "X, y = df_scaled, scaler.fit_transform(data_lag[['Shipments']][5:-5])\n",
    "grid_result = grid.fit(X, y)"
   ]
  },
  {
   "cell_type": "code",
   "execution_count": null,
   "id": "b380f2a9-d1f7-4318-8f23-e3e905cfd7f0",
   "metadata": {},
   "outputs": [],
   "source": [
    "grid_result.best_params_"
   ]
  },
  {
   "cell_type": "markdown",
   "id": "f39078dd-0fe8-488b-80c8-3d2027900642",
   "metadata": {},
   "source": [
    "So as the best parameters of GridSearch are the same that we used previously with Lasso model, we'll move on and try another baseline model as an estimator - RandomForest, and one more selection technique Boruta."
   ]
  },
  {
   "cell_type": "markdown",
   "id": "22517549-c64d-414e-ab23-a1128f02f2e8",
   "metadata": {},
   "source": [
    "#### RandomForestRegressor + Boruta"
   ]
  },
  {
   "cell_type": "markdown",
   "id": "d6d98b89-ba72-4568-bc03-1af3fa5a8d11",
   "metadata": {},
   "source": [
    "The idea underlying Boruta is to create random copies (**shadow features**) of all the features from the original dataset and train classifiers based on this extended dataset. We take the importance of each original features and compare it with a threshold. The threshold is defined as the highest feature importance recorded among the shadow features. When the importance of a feature is higher than this threshold, this is called a **hit**. The idea is that **a feature is useful only if it’s capable of doing better than the best randomized feature**.\n",
    "<br><p>**What's the probability that we shall keep a feature?** The maximum level of uncertainty about the feature is expressed by a probability of 50%, like tossing a coin. Since each independent experiment can give a binary outcome (hit or no hit), a series of $n$ trials follows a **binomial distribution**.\n",
    "<br><p>There're 3 areas: an **area of refusal**, an **area of irresolution**, an **area of acceptance**."
   ]
  },
  {
   "cell_type": "code",
   "execution_count": null,
   "id": "09f81407-7d65-4ff5-a522-a6cd9c1559c2",
   "metadata": {},
   "outputs": [],
   "source": [
    "forest = RandomForestRegressor(\n",
    "    n_jobs=-1, \n",
    "    max_depth=5,\n",
    "    random_state=42\n",
    ")\n",
    "boruta = BorutaPy(\n",
    "    estimator=forest, \n",
    "    n_estimators='auto',\n",
    "    max_iter=100,\n",
    "    random_state=42\n",
    ")"
   ]
  },
  {
   "cell_type": "code",
   "execution_count": null,
   "id": "52dc9a55-9433-4c8b-bdd9-b85dc46e109d",
   "metadata": {},
   "outputs": [],
   "source": [
    "res = pd.concat([res, data_lag.BlackFriday[5:]], axis=1)\n",
    "X, y = res, data_lag['Shipments'][5:]"
   ]
  },
  {
   "cell_type": "code",
   "execution_count": null,
   "id": "21794690-47d6-43e5-b716-a10ddc901a7e",
   "metadata": {},
   "outputs": [],
   "source": [
    "X_train, y_train = X[:-5], y[:-5]\n",
    "boruta.fit(np.array(X_train), np.array(y_train))"
   ]
  },
  {
   "cell_type": "code",
   "execution_count": null,
   "id": "261d9a38-7317-4bde-a368-edc8ebb8cd75",
   "metadata": {},
   "outputs": [],
   "source": [
    "cols = X.columns[boruta.support_].to_list()\n",
    "cols"
   ]
  },
  {
   "cell_type": "code",
   "execution_count": null,
   "id": "aae23f47-e085-40e8-a30e-1574dc7fa848",
   "metadata": {},
   "outputs": [],
   "source": [
    "delete = [c for c in res.columns.values.tolist() if c not in cols]\n",
    "reduced_data = res.drop(delete, axis=1)"
   ]
  },
  {
   "cell_type": "code",
   "execution_count": null,
   "id": "14cdba8b-4b40-44b9-bc4c-bf262c7b81d6",
   "metadata": {},
   "outputs": [],
   "source": [
    "X, y = reduced_data, data_lag['Shipments'][5:]"
   ]
  },
  {
   "cell_type": "code",
   "execution_count": null,
   "id": "be1e7929-44ec-460c-a5e8-ba052f4af737",
   "metadata": {},
   "outputs": [],
   "source": [
    "predicted_values = evaluate(lin_reg, X, y)\n",
    "plot_results(x, y_true, predicted_values, title='Linear regression with lag features using Boruta on the last 5 month')"
   ]
  },
  {
   "cell_type": "markdown",
   "id": "299a0abd-3e4e-4653-88e7-cf93b044a2af",
   "metadata": {},
   "source": [
    "Applying Boruta with RandomForest we decreased our error metrics. Let's try to tune parameters of RandomForest in order to improve the results a bit more."
   ]
  },
  {
   "cell_type": "markdown",
   "id": "df9fb460-be95-491e-90ae-a05a159aa8c3",
   "metadata": {},
   "source": [
    "#### GridSearch + RandomForestRegressor"
   ]
  },
  {
   "cell_type": "code",
   "execution_count": null,
   "id": "4941ec58-d4dd-4fa3-b4cb-0bd73106492e",
   "metadata": {},
   "outputs": [],
   "source": [
    "parameters = {\n",
    "    'n_estimators': [10, 40, 70, 100, 130],\n",
    "    'criterion': ['squared_error', 'absolute_error', 'poisson'],\n",
    "    'max_depth': [3, 5, 7, 11],\n",
    "    'min_samples_split': [2, 4, 6]\n",
    "}"
   ]
  },
  {
   "cell_type": "code",
   "execution_count": null,
   "id": "0833f299-6dd3-47bb-b671-d975bcf1ea7e",
   "metadata": {},
   "outputs": [],
   "source": [
    "RandomForestRegressor"
   ]
  },
  {
   "cell_type": "code",
   "execution_count": null,
   "id": "d6a5cd4d-0685-407d-93fd-dafee50ffab6",
   "metadata": {},
   "outputs": [],
   "source": [
    "tscv = TimeSeriesSplit(n_splits=5, test_size=1) \n",
    "\n",
    "grid = GridSearchCV(RandomForestRegressor(random_state=42, n_jobs=-1), \n",
    "                    parameters, \n",
    "                    cv=tscv, \n",
    "                    scoring='neg_mean_absolute_percentage_error')\n",
    "\n",
    "grid_result = grid.fit(X_train, y_train)"
   ]
  },
  {
   "cell_type": "code",
   "execution_count": null,
   "id": "131886ba-27d8-4f28-b25a-1f897078fdd7",
   "metadata": {},
   "outputs": [],
   "source": [
    "grid_result.best_params_"
   ]
  },
  {
   "cell_type": "code",
   "execution_count": null,
   "id": "7afcc05a-4889-449e-bbc7-26b619c2234f",
   "metadata": {},
   "outputs": [],
   "source": [
    "pd.DataFrame(grid_result.cv_results_).query('param_n_estimators == 100 & param_max_depth == 5 & param_min_samples_split\t == 2')"
   ]
  },
  {
   "cell_type": "code",
   "execution_count": null,
   "id": "b6f15fe9-d754-42a0-8f82-34ecf27ed597",
   "metadata": {},
   "outputs": [],
   "source": [
    "pd.DataFrame(grid_result.cv_results_).sort_values('rank_test_score')"
   ]
  },
  {
   "cell_type": "code",
   "execution_count": null,
   "id": "693ec052-c833-4df9-a39d-5e519abe1112",
   "metadata": {},
   "outputs": [],
   "source": [
    "forest = RandomForestRegressor(**grid_result.best_params_, random_state=42)\n",
    "\n",
    "boruta = BorutaPy(\n",
    "    estimator=forest, \n",
    "    n_estimators='auto',\n",
    "    max_iter=100,\n",
    "    random_state=42\n",
    ")"
   ]
  },
  {
   "cell_type": "code",
   "execution_count": null,
   "id": "08a5089a-6ff3-4549-b97c-d82831812674",
   "metadata": {},
   "outputs": [],
   "source": [
    "boruta.fit(np.array(X_train), np.array(y_train))"
   ]
  },
  {
   "cell_type": "code",
   "execution_count": null,
   "id": "6c5699b8-c8a0-4dda-88e9-d1689e636b2b",
   "metadata": {},
   "outputs": [],
   "source": [
    "cols = X.columns[boruta.support_].to_list()\n",
    "cols"
   ]
  },
  {
   "cell_type": "code",
   "execution_count": null,
   "id": "87cd0807-8fef-4f4d-a7ec-b3418259a201",
   "metadata": {},
   "outputs": [],
   "source": [
    "delete = [c for c in res.columns.values.tolist() if c not in cols]\n",
    "reduced_data = res.drop(delete, axis=1)"
   ]
  },
  {
   "cell_type": "code",
   "execution_count": null,
   "id": "fd06b818-e875-4d62-b654-db854afa82c1",
   "metadata": {},
   "outputs": [],
   "source": [
    "X, y = reduced_data, data_lag['Shipments'][5:]"
   ]
  },
  {
   "cell_type": "code",
   "execution_count": null,
   "id": "a1117994-af7b-4e67-82d8-b4ad31e87c28",
   "metadata": {},
   "outputs": [],
   "source": [
    "predicted_values = evaluate(lin_reg, X, y)\n",
    "plot_results(x, y_true, predicted_values, title='Linear regression with lag features using Boruta on the last 5 month')"
   ]
  },
  {
   "cell_type": "markdown",
   "id": "6aadb031-af79-4939-ade9-85e5d9d63b7d",
   "metadata": {},
   "source": [
    "Tunning parameters with GridSearch didn't help us to decrease MAPE more, we got even higher values of error metrics than SelectFromModel and Lasso gave. \n",
    "<br> So for now we used Linear regression as a main part of our predictions, but let's focus on idea of gradient boosting."
   ]
  },
  {
   "cell_type": "markdown",
   "id": "343feaed-9919-4f23-8600-57ae0a2d2cf2",
   "metadata": {},
   "source": [
    "## Gradient Boosting libraries"
   ]
  },
  {
   "cell_type": "markdown",
   "id": "06e3af1d-8840-4a1d-ae50-85377ee69e0d",
   "metadata": {},
   "source": [
    "### XGBoost"
   ]
  },
  {
   "cell_type": "code",
   "execution_count": null,
   "id": "a57203e7-bc37-4446-a057-0dbc31b83daa",
   "metadata": {},
   "outputs": [],
   "source": [
    "xgb_reg = xgb.XGBRegressor(learning_rate=1, n_estimators=50, booster='gblinear', random_state=42)"
   ]
  },
  {
   "cell_type": "code",
   "execution_count": null,
   "id": "4f1b17e1-cccc-4857-b2fb-4b405889c0ef",
   "metadata": {},
   "outputs": [],
   "source": [
    "predicted_values = evaluate(xgb_reg, X, y)\n",
    "plot_results(x, y_true, predicted_values, title='XGBoost with lag features on the last 5 month')"
   ]
  },
  {
   "cell_type": "code",
   "execution_count": null,
   "id": "042234a3-29fa-4d13-bf40-e3223bd278c9",
   "metadata": {},
   "outputs": [],
   "source": []
  },
  {
   "cell_type": "code",
   "execution_count": null,
   "id": "67bd7ec9-67de-464d-b603-2e57c4467be1",
   "metadata": {},
   "outputs": [],
   "source": []
  },
  {
   "cell_type": "code",
   "execution_count": null,
   "id": "8c278bba-e11b-4861-85c8-4ce135cd4fc5",
   "metadata": {},
   "outputs": [],
   "source": []
  },
  {
   "cell_type": "code",
   "execution_count": null,
   "id": "aaec5a7c-486d-4041-afef-b93e42fd780c",
   "metadata": {},
   "outputs": [],
   "source": [
    "params = {\n",
    "        'n_estimators': [50, 100],\n",
    "        'max_depth': [3, 5, 7, 9],\n",
    "        'eta': [0.1, 0.3, 0.5, 0.7, 1]\n",
    "        }"
   ]
  },
  {
   "cell_type": "code",
   "execution_count": null,
   "id": "f691610c-73a4-4b76-aea8-74331d62d361",
   "metadata": {},
   "outputs": [],
   "source": [
    "tscv = TimeSeriesSplit(n_splits=5, test_size=1) \n",
    "\n",
    "grid = GridSearchCV(xgb.XGBRegressor(objective='reg:squarederror', random_state=42), \n",
    "                    params, \n",
    "                    cv=tscv, \n",
    "                    scoring='neg_mean_absolute_percentage_error')\n",
    "\n",
    "X_train, y_train = X[:-5], y[:-5]\n",
    "grid_result = grid.fit(X_train, y_train)"
   ]
  },
  {
   "cell_type": "code",
   "execution_count": null,
   "id": "48a37998-9b59-4340-8e98-3cefe71fcf66",
   "metadata": {},
   "outputs": [],
   "source": [
    "grid_result.best_params_"
   ]
  },
  {
   "cell_type": "code",
   "execution_count": null,
   "id": "9ed6e38a-2901-44af-8d01-057dcbc18e5a",
   "metadata": {},
   "outputs": [],
   "source": [
    "xgb_reg = xgb.XGBRegressor(**grid_result.best_params_)"
   ]
  },
  {
   "cell_type": "code",
   "execution_count": null,
   "id": "da5b3b78-c8fd-486a-a18e-5151a4c56997",
   "metadata": {},
   "outputs": [],
   "source": [
    "predicted_values = evaluate(xgb_reg, X, y)\n",
    "plot_results(x, y_true, predicted_values, title='XGBoost with lag features on the last 5 month')"
   ]
  },
  {
   "cell_type": "code",
   "execution_count": null,
   "id": "81742015-2bcf-4926-bf94-6c3d900e066b",
   "metadata": {},
   "outputs": [],
   "source": []
  },
  {
   "cell_type": "code",
   "execution_count": null,
   "id": "dd40b1a5-8731-4d6e-bbaf-b176028ffc61",
   "metadata": {},
   "outputs": [],
   "source": []
  },
  {
   "cell_type": "code",
   "execution_count": null,
   "id": "20ef3d21-10ad-46d9-9c8e-9378d60bf359",
   "metadata": {},
   "outputs": [],
   "source": []
  },
  {
   "cell_type": "code",
   "execution_count": null,
   "id": "1dac40b6-e3e2-4b85-8712-212dea0df5eb",
   "metadata": {},
   "outputs": [],
   "source": []
  },
  {
   "cell_type": "code",
   "execution_count": null,
   "id": "814c502e-b4f9-4477-882c-bd0a34148b5b",
   "metadata": {},
   "outputs": [],
   "source": []
  },
  {
   "cell_type": "markdown",
   "id": "a5601ff8-248a-4ce9-95df-72cd8dae1e0d",
   "metadata": {},
   "source": [
    "## Phrophet"
   ]
  },
  {
   "cell_type": "code",
   "execution_count": null,
   "id": "648eb261-3705-426f-8132-3de211866bb4",
   "metadata": {},
   "outputs": [],
   "source": [
    "data_prophet = data.copy()"
   ]
  },
  {
   "cell_type": "code",
   "execution_count": null,
   "id": "d429c846-4f0a-413c-9f14-f8a81017fb17",
   "metadata": {},
   "outputs": [],
   "source": [
    "data_prophet.reset_index(inplace=True)\n",
    "data_prophet = data_prophet.rename(columns = {'Date': 'ds',\n",
    "                                              'Shipments': 'y'})\n",
    "data_prophet = data_prophet.loc[:, ['ds', 'y']]"
   ]
  },
  {
   "cell_type": "markdown",
   "id": "1ddf4fe8-a3ed-4f49-b671-00073591f25b",
   "metadata": {},
   "source": [
    "### Initial prophet"
   ]
  },
  {
   "cell_type": "code",
   "execution_count": null,
   "id": "495284e8-e5ca-4e36-bac1-526a74cabee1",
   "metadata": {},
   "outputs": [],
   "source": [
    "def validate_prophet(holidays=None):\n",
    "    values = data_prophet.values\n",
    "    tscv = TimeSeriesSplit(n_splits=5, test_size=1, gap=1) \n",
    "\n",
    "    mae_errors, mape_errors = [], []\n",
    "    predicted_values = []\n",
    "    for train, test in tscv.split(values):\n",
    "        df_train = pd.DataFrame(values[train]).rename(columns = {0: 'ds', 1: 'y'})\n",
    "        model = Prophet(holidays=holidays)\n",
    "        model.fit(df_train)\n",
    "    \n",
    "        future_date = pd.DataFrame(data_prophet.iloc[test[0]]).T[['ds']]\n",
    "        prediction = model.predict(future_date)\n",
    "        predicted_values.append(prediction.yhat)\n",
    "    \n",
    "        mae_errors.append(mae(np.array([data_prophet.iloc[test[0]].values[1]]), np.array([prediction.yhat.values[0]])))\n",
    "        mape_errors.append(mape(np.array([data_prophet.iloc[test[0]].values[1]]), np.array([prediction.yhat.values[0]])))\n",
    "    \n",
    "    mae_errors = np.mean(np.array(mae_errors))\n",
    "    mape_errors = np.mean(np.array(mape_errors))\n",
    "\n",
    "    print(f'mape = {mape_errors}\\nmae = {mae_errors}\\n')\n",
    "    return predicted_values"
   ]
  },
  {
   "cell_type": "code",
   "execution_count": null,
   "id": "267e7fcf-9b91-4aed-912e-41b333c72717",
   "metadata": {},
   "outputs": [],
   "source": [
    "predicted_init = validate_prophet()"
   ]
  },
  {
   "cell_type": "markdown",
   "id": "96499514-d1d9-4026-978c-8f5fccecb712",
   "metadata": {},
   "source": [
    "### Phrophet with holidays"
   ]
  },
  {
   "cell_type": "code",
   "execution_count": null,
   "id": "a12f78bd-f765-48ee-aff7-17af56fc1826",
   "metadata": {},
   "outputs": [],
   "source": [
    "black_friday = promo_data.reset_index()\n",
    "black_friday.columns = ['ds', 'holiday']\n",
    "\n",
    "predicted_adv = validate_prophet(holidays=black_friday)"
   ]
  },
  {
   "cell_type": "code",
   "execution_count": null,
   "id": "3662aa7e-c61a-426b-9c05-66249f1dd5ce",
   "metadata": {},
   "outputs": [],
   "source": [
    "plt.figure(figsize=(12,8))\n",
    "plt.plot(true_values, label='Actual')\n",
    "plt.plot(predicted_init, label='Predicted (initial)')\n",
    "plt.plot(predicted_adv, label='Predicted (with holidays)')\n",
    "plt.legend(loc='best')\n",
    "plt.title('Simple Exponential Smoothing on the last 5 month')\n",
    "plt.show()"
   ]
  }
 ],
 "metadata": {
  "kernelspec": {
   "display_name": "Python 3 (ipykernel)",
   "language": "python",
   "name": "python3"
  },
  "language_info": {
   "codemirror_mode": {
    "name": "ipython",
    "version": 3
   },
   "file_extension": ".py",
   "mimetype": "text/x-python",
   "name": "python",
   "nbconvert_exporter": "python",
   "pygments_lexer": "ipython3",
   "version": "3.8.3"
  }
 },
 "nbformat": 4,
 "nbformat_minor": 5
}
